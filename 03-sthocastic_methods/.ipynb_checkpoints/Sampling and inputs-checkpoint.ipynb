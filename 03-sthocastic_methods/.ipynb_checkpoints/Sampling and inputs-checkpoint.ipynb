{
 "cells": [
  {
   "cell_type": "markdown",
   "metadata": {},
   "source": [
    "\n",
    "## Importance sampling\n",
    "\n",
    "Importance sampling is a [variance reduction](https://en.wikipedia.org/wiki/Variance_reduction) technique that can be used in the [Monte Carlo method](https://en.wikipedia.org/wiki/Monte_Carlo_method). The idea behind importance sampling is that certain values of the input [random variables](https://en.wikipedia.org/wiki/Random_variables) in a [simulation](https://en.wikipedia.org/wiki/Simulation) have more impact on the parameter being estimated than others. If these \"important\" values are emphasized by sampling more frequently, then the [estimator](https://en.wikipedia.org/wiki/Estimator) variance can be reduced. Hence, the basic methodology in importance sampling is to choose a distribution which \"encourages\" the important values. This use of \"biased\" distributions will result in a biased estimator if it is applied directly in the simulation. However, the simulation outputs are weighted to correct for the use of the biased distribution, and this ensures that the new importance sampling estimator is unbiased. The weight is given by the [likelihood ratio](https://en.wikipedia.org/wiki/Likelihood-ratio_test), that is, the [Radon–Nikodym derivative](https://en.wikipedia.org/wiki/Radon%E2%80%93Nikodym_derivative) of the true underlying distribution with respect to the biased simulation distribution.\n",
    "\n",
    "The fundamental issue in implementing importance sampling simulation is the choice of the biased distribution which encourages the important regions of the input variables. Choosing or designing a good biased distribution is the \"art\" of importance sampling. The rewards for a good distribution can be huge run-time savings; the penalty for a bad distribution can be longer run times than for a general Monte Carlo simulation without importance sampling.\n",
    "\n",
    "## Resampling\n",
    "\n",
    "Resampling is also known as Bootstrapping or Monte Carlo Estimation\n",
    "\n",
    "https://www.statisticssolutions.com/sample-size-calculation-and-sample-size-justification-resampling/\n",
    "\n",
    "## Transforming Density Functions\n",
    "\n",
    "https://www.cl.cam.ac.uk/teaching/0708/Probabilty/prob11.pdf\n",
    "\n",
    "## Exchangeable random variables\n",
    "\n",
    "In statistics, an exchangeable sequence of random variables (also sometimes interchangeable)[1] is a sequence X1, X2, X3, ... (which may be finitely or infinitely long) whose joint probability distribution does not change when the positions in the sequence in which finitely many of them appear are altered. Thus, for example the sequences\n",
    "\n",
    "{\\displaystyle X_{1},X_{2},X_{3},X_{4},X_{5},X_{6}\\quad {\\text{ and }}\\quad X_{3},X_{6},X_{1},X_{5},X_{2},X_{4}}{\\displaystyle X_{1},X_{2},X_{3},X_{4},X_{5},X_{6}\\quad {\\text{ and }}\\quad X_{3},X_{6},X_{1},X_{5},X_{2},X_{4}}\n",
    "both have the same joint probability distribution.\n",
    "\n",
    "It is closely related to the use of independent and identically distributed random variables in statistical models. Exchangeable sequences of random variables arise in cases of simple random sampling.\n"
   ]
  }
 ],
 "metadata": {
  "kernelspec": {
   "display_name": "Python 3",
   "language": "python",
   "name": "python3"
  },
  "language_info": {
   "codemirror_mode": {
    "name": "ipython",
    "version": 3
   },
   "file_extension": ".py",
   "mimetype": "text/x-python",
   "name": "python",
   "nbconvert_exporter": "python",
   "pygments_lexer": "ipython3",
   "version": "3.7.5"
  }
 },
 "nbformat": 4,
 "nbformat_minor": 2
}
