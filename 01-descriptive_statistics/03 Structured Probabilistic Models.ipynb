{
 "cells": [
  {
   "cell_type": "markdown",
   "metadata": {},
   "source": [
    "\n",
    "# Structured Probabilistic Models\n",
    "\n",
    "Are combined models which represents multiple dependencies between random variables, represented by a graph, where:\n",
    "* Node = random variable\n",
    "* Edge =  represent direct interactions between the two connected random variables\n",
    "Then, graphs can be:\n",
    "* Directed, where edges represent factorization of conditional probability distributions.\n",
    "* Undirected, where edges represent factorization of a set of functions, which are not probability distributions (see below for details)\n",
    "SPMs are a language for describing probability distributions. **Being directed or undirected** is not a property of a probability distribution (are not mutually exclusive families of probability distributions). **It is a property of a particular description of a probability distribution, but any probability distribution may be described in both ways.**\n",
    "\n",
    "## Directed model\n",
    "\n",
    "It contains one factor for every random variable xi in the distribution, and that factor consists of the conditional distribution over xi given the parents of xi, denoted Pa G(xi). Therefore we have the product of sequence (Italian: produttoria):\n",
    "p(x) = 0n p ( xi | Pa G(xi) )\n",
    "Which basically is the product of the concatenated conditional probability (chain rule).\n",
    "![](img/Page-8-Image-11.png)\n",
    "\n",
    "## Undirected model\n",
    "It contains one factor for every edge; undirected models are studied per couple of nodes connected by an edge, called Cliques C(i)- the basic undirected model. Each clique is associated with a factor, which is a function (not a probability one) denoted (i)(C(i)), where:\n",
    "Codomain of (i)is positive\n",
    "The integral of (i)can be diverse from 1 (unlike a probability function)\n",
    "The probability of a conﬁguration of random variables is proportional to the product of all these factors:\n",
    "p(x)    (i)\n",
    "\n",
    "Because of there is no guarantee that this product will sum to 1. Therefore, we normalize by dividing by Z (the sum or integral over all states of the product of the   functions - or upper limit), in order to obtain a normalized probability distribution:\n",
    "p(x) = 1Z0n(i)(C(i))"
   ]
  }
 ],
 "metadata": {
  "kernelspec": {
   "display_name": "Python 3",
   "language": "python",
   "name": "python3"
  },
  "language_info": {
   "codemirror_mode": {
    "name": "ipython",
    "version": 3
   },
   "file_extension": ".py",
   "mimetype": "text/x-python",
   "name": "python",
   "nbconvert_exporter": "python",
   "pygments_lexer": "ipython3",
   "version": "3.7.5"
  }
 },
 "nbformat": 4,
 "nbformat_minor": 2
}
