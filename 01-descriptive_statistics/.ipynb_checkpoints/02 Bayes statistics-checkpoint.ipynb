{
 "cells": [
  {
   "cell_type": "markdown",
   "metadata": {},
   "source": [
    "## Bayes Theorem\n",
    "\n",
    "Given the tree diagram (right) and the superposition event figure (left), see the pathAAB and BAB. It shows that:\n",
    "\n",
    "$P(A|B)P(B) = AB =P(B|A)P(A) $\n",
    "\n",
    "<div class=\"image123\">\n",
    "    <div class=\"imgContainer\">\n",
    "        <img src=\"img/Page-5-Image-8.png\" height=\"800\" width=\"800\"/>\n",
    "    </div>\n",
    "</div>\n",
    "\n",
    "Which is represented on the AB plane as (be careful, the chart is not 100% correct):\n",
    "\n",
    "![](img/Page-6-Image-10.png)\n",
    "\n",
    "Therefore,  P(A|B)=P(B|A)P(A)P(B) where P(A), P(B) are the residual probabilities.\n"
   ]
  }
 ],
 "metadata": {
  "kernelspec": {
   "display_name": "Python 3",
   "language": "python",
   "name": "python3"
  },
  "language_info": {
   "codemirror_mode": {
    "name": "ipython",
    "version": 3
   },
   "file_extension": ".py",
   "mimetype": "text/x-python",
   "name": "python",
   "nbconvert_exporter": "python",
   "pygments_lexer": "ipython3",
   "version": "3.7.5"
  }
 },
 "nbformat": 4,
 "nbformat_minor": 2
}
