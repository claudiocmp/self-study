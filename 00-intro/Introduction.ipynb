{
 "cells": [
  {
   "cell_type": "markdown",
   "metadata": {},
   "source": [
    "# Introduction\n",
    "\n",
    "## Stats\n",
    "\n",
    "https://g9md.tv/broadcast/recorded/overview-of-statistics\n",
    "\n",
    "## Frequentist vs Bayesian\n",
    "\n",
    "Example: I have misplaced my phone somewhere in the home. I can use the phone locator on the base of the instrument to locate the phone and when I press the phone locator the phone starts beeping.\n",
    "\n",
    "> Problem: Which area of my home should I search?\n",
    "\n",
    "#### Frequentist Reasoning\n",
    "I can hear the phone beeping. I also have a mental model which helps me identify the area from which the sound is coming. Therefore, upon hearing the beep, I infer the area of my home I must search to locate the phone.\n",
    "\n",
    "#### Bayesian Reasoning\n",
    "I can hear the phone beeping. Now, apart from a mental model which helps me identify the area from which the sound is coming from, I also know the locations where I have misplaced the phone in the past. So, I combine my inferences using the beeps and my prior information about the locations I have misplaced the phone in the past to identify an area I must search to locate the phone.\n",
    "\n",
    "Further reading: [link](https://www.probabilisticworld.com/frequentist-bayesian-approaches-inferential-statistics/)<br/>\n",
    "Ref: [link](https://stats.stackexchange.com/questions/22/bayesian-and-frequentist-reasoning-in-plain-english)"
   ]
  }
 ],
 "metadata": {
  "kernelspec": {
   "display_name": "Python 3",
   "language": "python",
   "name": "python3"
  },
  "language_info": {
   "codemirror_mode": {
    "name": "ipython",
    "version": 3
   },
   "file_extension": ".py",
   "mimetype": "text/x-python",
   "name": "python",
   "nbconvert_exporter": "python",
   "pygments_lexer": "ipython3",
   "version": "3.7.5"
  }
 },
 "nbformat": 4,
 "nbformat_minor": 2
}
