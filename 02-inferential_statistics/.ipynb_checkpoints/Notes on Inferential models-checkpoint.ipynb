{
 "cells": [
  {
   "cell_type": "markdown",
   "metadata": {},
   "source": [
    "# Notes on Inference for Models\n",
    "\n",
    "## TOC\n",
    "\n",
    "Causal Inference Models\n",
    "* [Influence and causality: castration doesn't make you live longer](https://www.inference.vc/influence_and_causality_castration_doesn_t_make_you_live_longer/)\n",
    "* [Part 1: ML beyond Curve Fitting: An Intro to Causal Inference and do-Calculus](https://www.inference.vc/untitled/)\n",
    "* [Part 2: Illustrating Interventions via a Toy Example](https://www.inference.vc/causal-inference-2-illustrating-interventions-in-a-toy-example/)\n",
    "* [Part 3: Counterfactuals](https://www.inference.vc/causal-inference-3-counterfactuals/)\n",
    "\n",
    "Inference and DNN’s\n",
    "* [Everything that Works Works Because it's Bayesian: Why Deep Nets Generalize?](https://www.inference.vc/everything-that-works-works-because-its-bayesian-2/)\n",
    "\n",
    "Inference in VAE\n",
    "* [Choice of Recognition Models in VAEs: a regularisation view](https://www.inference.vc/choice-of-recognition-models-in-vaes-a-regularisation-view/)\n",
    "\n",
    "GANs\n",
    "* [GANs are Broken in More than One Way: The Numerics of GANs](https://www.inference.vc/my-notes-on-the-numerics-of-gans/)\n",
    "\n",
    "\n",
    "\n",
    "## Causal Inference Models\n",
    "\n",
    "\n",
    "\n",
    "\n",
    "\n",
    "\n"
   ]
  }
 ],
 "metadata": {
  "kernelspec": {
   "display_name": "Python 3",
   "language": "python",
   "name": "python3"
  },
  "language_info": {
   "codemirror_mode": {
    "name": "ipython",
    "version": 3
   },
   "file_extension": ".py",
   "mimetype": "text/x-python",
   "name": "python",
   "nbconvert_exporter": "python",
   "pygments_lexer": "ipython3",
   "version": "3.7.5"
  }
 },
 "nbformat": 4,
 "nbformat_minor": 2
}
